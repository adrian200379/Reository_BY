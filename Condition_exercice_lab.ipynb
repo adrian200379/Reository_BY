{
 "cells": [
  {
   "cell_type": "markdown",
   "metadata": {},
   "source": [
    "# Conditions exercices"
   ]
  },
  {
   "cell_type": "markdown",
   "metadata": {},
   "source": [
    "## Exercice 1: (use only the **`if`** statement without ~~elif~~ or ~~else~~) \n",
    "Ask the user for two integer *val_1* and *val_2* and then print if the first input is greater than the second or if both inputs are the same. "
   ]
  },
  {
   "cell_type": "code",
   "execution_count": 30,
   "metadata": {},
   "outputs": [
    {
     "name": "stdout",
     "output_type": "stream",
     "text": [
      "Please give the first number:1\n",
      "1\n",
      "Please give the second number:2\n"
     ]
    },
    {
     "data": {
      "text/plain": [
       "2"
      ]
     },
     "execution_count": 30,
     "metadata": {},
     "output_type": "execute_result"
    }
   ],
   "source": [
    "# ask the user for an input as interger \n",
    "first_number=int(input('Please give the first number:'))\n",
    "print(first_number)\n",
    "second_number=int(input('Please give the second number:'))\n",
    "second_number"
   ]
  },
  {
   "cell_type": "code",
   "execution_count": 31,
   "metadata": {},
   "outputs": [
    {
     "name": "stdout",
     "output_type": "stream",
     "text": [
      "1\n",
      "2\n",
      "1 is less than 2 !\n"
     ]
    }
   ],
   "source": [
    "print(first_number)\n",
    "print(second_number)\n",
    "print(first_number,'is less than',second_number,'!')\n"
   ]
  },
  {
   "cell_type": "markdown",
   "metadata": {},
   "source": [
    "## Exercice 2: \n",
    "Same as Exercice 1 but with with `if`, `elif`and `else` . "
   ]
  },
  {
   "cell_type": "code",
   "execution_count": null,
   "metadata": {},
   "outputs": [],
   "source": [
    "# ask the user for an input as interger \n"
   ]
  },
  {
   "cell_type": "code",
   "execution_count": 32,
   "metadata": {},
   "outputs": [
    {
     "name": "stdout",
     "output_type": "stream",
     "text": [
      "1 is less than 2\n",
      "That's all for today!\n"
     ]
    }
   ],
   "source": [
    "if first_number <=1:\n",
    "    if second_number >=2:\n",
    "        print(first_number, 'is less than', second_number)\n",
    "    else:\n",
    "        print(first_number, 'is equal or more than', second_number) \n",
    "elif first_number > 1:\n",
    "    if second_number >= 2:\n",
    "        print (first_number,'is probaly equal to or more than ',second_number)\n",
    "    else:\n",
    "        print(first_number,'is more than', second_number)\n",
    "print('That\\'s all for today!')\n"
   ]
  },
  {
   "cell_type": "markdown",
   "metadata": {},
   "source": [
    "## Exercice 3: \n",
    "Ask the user for and input between 1 and 12 and tell the month as string. If the input is more than 12, tell the user that it doesn't exist yet. \n",
    "\n",
    "Example: \n",
    "\n",
    "input:  1 \n",
    "output: January\n",
    "\n",
    "input: 2 \n",
    "output: February\n",
    "\n",
    ".\n",
    "\n",
    ". \n",
    "\n",
    ".\n",
    "\n",
    "\n",
    "input: 20\n",
    "output: This month doesn't exist yet. "
   ]
  },
  {
   "cell_type": "code",
   "execution_count": 29,
   "metadata": {},
   "outputs": [
    {
     "name": "stdout",
     "output_type": "stream",
     "text": [
      "Bitte geben Sie eine Nummer(zwischen 1-12):14\n",
      "This month doesn't exist yet.\n"
     ]
    }
   ],
   "source": [
    "# ask the user for an input as interger \n",
    "Jahreszeit = int(input('Bitte geben Sie eine Nummer(zwischen 1-12):'))\n",
    "if Jahreszeit == 1:\n",
    "    print('Happy Jan!')\n",
    "elif Jahreszeit == 2:\n",
    "    print('Happy Feb!')\n",
    "elif Jahreszeit == 3:\n",
    "    print('Happy Mär!')\n",
    "elif Jahreszeit == 4:\n",
    "    print('Happy Apr!')\n",
    "elif Jahreszeit == 5:\n",
    "    print('Happy Mai!')\n",
    "elif Jahreszeit == 6:\n",
    "    print('Happy Jun!')\n",
    "elif Jahreszeit == 7:\n",
    "    print('Happy Jul!')\n",
    "elif Jahreszeit == 8:\n",
    "    print('Happy Aug!')\n",
    "elif Jahreszeit == 9:\n",
    "    print('Happy Sep!')\n",
    "elif Jahreszeit == 10:\n",
    "    print('Happy Okt!')\n",
    "elif Jahreszeit == 11:\n",
    "    print('Happy Nov!')\n",
    "elif Jahreszeit == 12:\n",
    "    print('Happy Dez!')\n",
    "else:\n",
    "    print('This month doesn\\'t exist yet.')"
   ]
  },
  {
   "cell_type": "code",
   "execution_count": null,
   "metadata": {},
   "outputs": [],
   "source": []
  }
 ],
 "metadata": {
  "kernelspec": {
   "display_name": "Python 3",
   "language": "python",
   "name": "python3"
  },
  "language_info": {
   "codemirror_mode": {
    "name": "ipython",
    "version": 3
   },
   "file_extension": ".py",
   "mimetype": "text/x-python",
   "name": "python",
   "nbconvert_exporter": "python",
   "pygments_lexer": "ipython3",
   "version": "3.7.4"
  }
 },
 "nbformat": 4,
 "nbformat_minor": 4
}
